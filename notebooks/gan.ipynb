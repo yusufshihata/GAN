{
 "cells": [
  {
   "cell_type": "code",
   "execution_count": 1,
   "metadata": {},
   "outputs": [],
   "source": [
    "import torch.nn as nn\n",
    "from torchsummary import summary"
   ]
  },
  {
   "cell_type": "code",
   "execution_count": 2,
   "metadata": {},
   "outputs": [],
   "source": [
    "# Define the Discriminator net architecture\n",
    "class Discriminator(nn.Module):\n",
    "    def __init__(self):\n",
    "        super(Discriminator, self).__init__()\n",
    "        self.model = nn.Sequential(\n",
    "            nn.Conv2d(in_channels=1, out_channels=16, kernel_size=3, stride=2),\n",
    "            nn.BatchNorm2d(16),\n",
    "            nn.LeakyReLU(0.2),\n",
    "\n",
    "            nn.Conv2d(in_channels=16, out_channels=32, kernel_size=5, stride=2),\n",
    "            nn.BatchNorm2d(32),\n",
    "            nn.LeakyReLU(0.2),\n",
    "\n",
    "            nn.Conv2d(in_channels=32, out_channels=64, kernel_size=5, stride=2),\n",
    "            nn.BatchNorm2d(64),\n",
    "            nn.LeakyReLU(0.2),\n",
    "\n",
    "            nn.Flatten(),\n",
    "            nn.Linear(in_features=64, out_features=1)\n",
    "        )\n",
    "\n",
    "    def forward(self, img):\n",
    "        return self.model(img)"
   ]
  },
  {
   "cell_type": "code",
   "execution_count": 3,
   "metadata": {},
   "outputs": [],
   "source": [
    "# Define the Generator net architecture\n",
    "class Generator(nn.Module):\n",
    "    def __init__(self, noise_dim):\n",
    "        super(Generator, self).__init__()\n",
    "        self.noise_dim = noise_dim\n",
    "        self.model = nn.Sequential(\n",
    "            nn.ConvTranspose2d(in_channels=noise_dim, out_channels=256, kernel_size=3, stride=2),\n",
    "            nn.BatchNorm2d(256),\n",
    "            nn.ReLU(),\n",
    "\n",
    "            nn.ConvTranspose2d(in_channels=256, out_channels=128, kernel_size=4, stride=1),\n",
    "            nn.BatchNorm2d(128),\n",
    "            nn.ReLU(),\n",
    "\n",
    "            nn.ConvTranspose2d(in_channels=128, out_channels=64, kernel_size=3, stride=2),\n",
    "            nn.BatchNorm2d(64),\n",
    "            nn.ReLU(),\n",
    "\n",
    "            nn.ConvTranspose2d(in_channels=64, out_channels=1, kernel_size=4, stride=2),\n",
    "            nn.Tanh()\n",
    "        )\n",
    "    \n",
    "    def forward(self, z):\n",
    "        z = z.view(-1, self.noise_dim, 1, 1)\n",
    "        return self.model(z)"
   ]
  },
  {
   "cell_type": "code",
   "execution_count": 5,
   "metadata": {},
   "outputs": [
    {
     "name": "stdout",
     "output_type": "stream",
     "text": [
      "----------------------------------------------------------------\n",
      "        Layer (type)               Output Shape         Param #\n",
      "================================================================\n",
      "   ConvTranspose2d-1            [-1, 256, 3, 3]         147,712\n",
      "       BatchNorm2d-2            [-1, 256, 3, 3]             512\n",
      "              ReLU-3            [-1, 256, 3, 3]               0\n",
      "   ConvTranspose2d-4            [-1, 128, 6, 6]         524,416\n",
      "       BatchNorm2d-5            [-1, 128, 6, 6]             256\n",
      "              ReLU-6            [-1, 128, 6, 6]               0\n",
      "   ConvTranspose2d-7           [-1, 64, 13, 13]          73,792\n",
      "       BatchNorm2d-8           [-1, 64, 13, 13]             128\n",
      "              ReLU-9           [-1, 64, 13, 13]               0\n",
      "  ConvTranspose2d-10            [-1, 1, 28, 28]           1,025\n",
      "             Tanh-11            [-1, 1, 28, 28]               0\n",
      "================================================================\n",
      "Total params: 747,841\n",
      "Trainable params: 747,841\n",
      "Non-trainable params: 0\n",
      "----------------------------------------------------------------\n",
      "Input size (MB): 0.00\n",
      "Forward/backward pass size (MB): 0.42\n",
      "Params size (MB): 2.85\n",
      "Estimated Total Size (MB): 3.27\n",
      "----------------------------------------------------------------\n"
     ]
    }
   ],
   "source": [
    "# Get a Summary of the Generator Network\n",
    "G = Generator(64).to(\"cuda\")\n",
    "\n",
    "summary(G, (1, 64))"
   ]
  },
  {
   "cell_type": "code",
   "execution_count": 6,
   "metadata": {},
   "outputs": [
    {
     "name": "stdout",
     "output_type": "stream",
     "text": [
      "----------------------------------------------------------------\n",
      "        Layer (type)               Output Shape         Param #\n",
      "================================================================\n",
      "            Conv2d-1           [-1, 16, 13, 13]             160\n",
      "       BatchNorm2d-2           [-1, 16, 13, 13]              32\n",
      "         LeakyReLU-3           [-1, 16, 13, 13]               0\n",
      "            Conv2d-4             [-1, 32, 5, 5]          12,832\n",
      "       BatchNorm2d-5             [-1, 32, 5, 5]              64\n",
      "         LeakyReLU-6             [-1, 32, 5, 5]               0\n",
      "            Conv2d-7             [-1, 64, 1, 1]          51,264\n",
      "       BatchNorm2d-8             [-1, 64, 1, 1]             128\n",
      "         LeakyReLU-9             [-1, 64, 1, 1]               0\n",
      "          Flatten-10                   [-1, 64]               0\n",
      "           Linear-11                    [-1, 1]              65\n",
      "================================================================\n",
      "Total params: 64,545\n",
      "Trainable params: 64,545\n",
      "Non-trainable params: 0\n",
      "----------------------------------------------------------------\n",
      "Input size (MB): 0.00\n",
      "Forward/backward pass size (MB): 0.08\n",
      "Params size (MB): 0.25\n",
      "Estimated Total Size (MB): 0.33\n",
      "----------------------------------------------------------------\n"
     ]
    }
   ],
   "source": [
    "# Get a Summary of the discriminator network\n",
    "D = Discriminator().to(\"cuda\")\n",
    "\n",
    "summary(D, (1, 28, 28))"
   ]
  },
  {
   "cell_type": "code",
   "execution_count": null,
   "metadata": {},
   "outputs": [],
   "source": []
  }
 ],
 "metadata": {
  "kernelspec": {
   "display_name": "deep-learning-env",
   "language": "python",
   "name": "python3"
  },
  "language_info": {
   "codemirror_mode": {
    "name": "ipython",
    "version": 3
   },
   "file_extension": ".py",
   "mimetype": "text/x-python",
   "name": "python",
   "nbconvert_exporter": "python",
   "pygments_lexer": "ipython3",
   "version": "3.12.7"
  }
 },
 "nbformat": 4,
 "nbformat_minor": 2
}
